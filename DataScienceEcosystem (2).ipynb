{
 "cells": [
  {
   "cell_type": "markdown",
   "id": "67cf9180-77cb-4635-84f4-e20330950a33",
   "metadata": {},
   "source": [
    "# Data Science Tools and Ecosytem"
   ]
  },
  {
   "cell_type": "markdown",
   "id": "62712bfa-1916-480f-b5ca-dfb989ad3dd4",
   "metadata": {},
   "source": [
    "### In this notebook, Data Science Tools and Ecosystem are summarized\n"
   ]
  },
  {
   "cell_type": "markdown",
   "id": "ab648d1a-1994-48a1-b187-ef1870e9a62a",
   "metadata": {},
   "source": [
    "### Some of the popular languages that Data Scientist use are:\n",
    "1. Python\n",
    "2. SqL\n",
    "3. R\n"
   ]
  },
  {
   "cell_type": "markdown",
   "id": "ed3ec5f0-d3fe-4fe8-a343-731870157c42",
   "metadata": {},
   "source": [
    "### Some of the commonly used libraries used by Data Scientists include:\n",
    "1. Pandas\n",
    "2. NumPy\n",
    "3. MatplotLib\n",
    "4. ScikitLearn\n",
    "5. TensorFlow\n",
    "6. "
   ]
  },
  {
   "cell_type": "code",
   "execution_count": 3,
   "id": "2778bf6d-b2d0-4f5c-92dd-3ea4c8ac247d",
   "metadata": {},
   "outputs": [
    {
     "data": {
      "text/html": [
       "<div>\n",
       "<style scoped>\n",
       "    .dataframe tbody tr th:only-of-type {\n",
       "        vertical-align: middle;\n",
       "    }\n",
       "\n",
       "    .dataframe tbody tr th {\n",
       "        vertical-align: top;\n",
       "    }\n",
       "\n",
       "    .dataframe thead th {\n",
       "        text-align: right;\n",
       "    }\n",
       "</style>\n",
       "<table border=\"1\" class=\"dataframe\">\n",
       "  <thead>\n",
       "    <tr style=\"text-align: right;\">\n",
       "      <th></th>\n",
       "      <th>Data Science Tools</th>\n",
       "    </tr>\n",
       "  </thead>\n",
       "  <tbody>\n",
       "    <tr>\n",
       "      <th>0</th>\n",
       "      <td>Jupyter Notebook</td>\n",
       "    </tr>\n",
       "    <tr>\n",
       "      <th>1</th>\n",
       "      <td>RStudio</td>\n",
       "    </tr>\n",
       "    <tr>\n",
       "      <th>2</th>\n",
       "      <td>VS Code</td>\n",
       "    </tr>\n",
       "  </tbody>\n",
       "</table>\n",
       "</div>"
      ],
      "text/plain": [
       "  Data Science Tools\n",
       "0   Jupyter Notebook\n",
       "1            RStudio\n",
       "2            VS Code"
      ]
     },
     "execution_count": 3,
     "metadata": {},
     "output_type": "execute_result"
    }
   ],
   "source": [
    "import pandas as pd\n",
    "data=[\"Jupyter Notebook\", \"RStudio\", \"VS Code\"]\n",
    "df= pd.DataFrame(data, columns=[\"Data Science Tools\"])\n",
    "df\n"
   ]
  },
  {
   "cell_type": "markdown",
   "id": "1b5261ef-a4f9-4279-bb78-956b62923c99",
   "metadata": {},
   "source": [
    "### Below are a few examples of evaluating arithmetic expressions in Python"
   ]
  },
  {
   "cell_type": "code",
   "execution_count": 4,
   "id": "60805b5c-11a8-4af0-9201-a02d54f0e058",
   "metadata": {},
   "outputs": [
    {
     "data": {
      "text/plain": [
       "17"
      ]
     },
     "execution_count": 4,
     "metadata": {},
     "output_type": "execute_result"
    }
   ],
   "source": [
    "#### This is a simple arithmetic expression to multiply then add integers\n",
    "(3*4)+5"
   ]
  },
  {
   "cell_type": "code",
   "execution_count": 7,
   "id": "98164651-50ea-4ea4-a30a-2e25c2103db6",
   "metadata": {},
   "outputs": [
    {
     "data": {
      "text/plain": [
       "3.3333333333333335"
      ]
     },
     "execution_count": 7,
     "metadata": {},
     "output_type": "execute_result"
    }
   ],
   "source": [
    "###This will convert 200 minutes into hours by dividing by 60\n",
    "200/60"
   ]
  },
  {
   "cell_type": "markdown",
   "id": "a2fa692c-a273-4234-bf14-3363dc8a4e0b",
   "metadata": {
    "jp-MarkdownHeadingCollapsed": true
   },
   "source": [
    "# **Objectives**\n",
    "- Popular Languages for Data Science\n",
    "- Familiarity with environments like Jupyter Notbook and RStudio\n",
    "- Familiarity with version control environments like Github"
   ]
  },
  {
   "cell_type": "markdown",
   "id": "de065152-3b54-4fbc-86c2-edf1d29a54d8",
   "metadata": {},
   "source": [
    "## Author\n",
    "### Shaakira Osman\n"
   ]
  },
  {
   "cell_type": "code",
   "execution_count": null,
   "id": "d1e11f2d-ef33-4636-9d67-f287b8a3cb4f",
   "metadata": {},
   "outputs": [],
   "source": []
  }
 ],
 "metadata": {
  "kernelspec": {
   "display_name": "Python [conda env:base] *",
   "language": "python",
   "name": "conda-base-py"
  },
  "language_info": {
   "codemirror_mode": {
    "name": "ipython",
    "version": 3
   },
   "file_extension": ".py",
   "mimetype": "text/x-python",
   "name": "python",
   "nbconvert_exporter": "python",
   "pygments_lexer": "ipython3",
   "version": "3.12.7"
  }
 },
 "nbformat": 4,
 "nbformat_minor": 5
}
